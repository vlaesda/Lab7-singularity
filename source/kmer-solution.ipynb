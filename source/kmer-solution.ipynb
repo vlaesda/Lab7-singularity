{
 "cells": [
  {
   "attachments": {},
   "cell_type": "markdown",
   "metadata": {},
   "source": [
    "Usar el paquete numpy y b) Usar el paquete numba.\n",
    "\n",
    "En el notebook kmer-solution.ipynb tienes una\n",
    "implementación realizada por el alumno interno Marcos Gil. Como verás, junto al uso de ambos paquetes, ha pasado de usar str a utilizar arrays (np.array(dtype=uint)), y ha definido una nueva función que implementa directamente el recorrido sobre el array.\n",
    "\n",
    "añadir también la medición de tiempos para el caso optimizado."
   ]
  },
  {
   "attachments": {},
   "cell_type": "markdown",
   "metadata": {},
   "source": [
    "## A Short Introduction to DNA K-mers\n",
    "\n",
    "A DNA is a long chain of units called nucleotides. In DNA, there are 4 types ofnucleotides shown with letters A, C, G, and T. Humans (or more precisely HomoSapiens) have 3 billion nucleotide pairs. For example, a small portion of human DNA could be something like:\n",
    "\n",
    "ACTAGGGATCATGAAGATAATGTTGGTGTTTGTATGGTTTTCAGACAATT\n",
    "\n",
    "In this example, if you choose any 4 consecutive nucleotides (i.e. letters) from this string, it will be a k-mer with a length of 4 (we call it a 4-mer). Here are some examples of 4-mers derived from the example: \n",
    "ACTA\n",
    ",\n",
    "CTAG\n",
    ",\n",
    "TAGG\n",
    ",\n",
    "AGGG\n",
    ",\n",
    "GGGA\n",
    ", etc."
   ]
  },
  {
   "attachments": {},
   "cell_type": "markdown",
   "metadata": {},
   "source": [
    "### Python with numba"
   ]
  },
  {
   "cell_type": "code",
   "execution_count": 2,
   "metadata": {},
   "outputs": [
    {
     "name": "stdout",
     "output_type": "stream",
     "text": [
      "Start\n",
      "Number of generated k-mers: 268435456\n",
      "\n",
      "981 ms ± 7.38 ms per loop (mean ± std. dev. of 2 runs, 1 loop each)\n",
      "\n",
      "Finish!\n"
     ]
    }
   ],
   "source": [
    "from numba import njit\n",
    "import numpy as np\n",
    "\n",
    "@njit\n",
    "def convert(c):\n",
    "    if (c == ord('A')): return ord('C')\n",
    "    if (c == ord('C')): return ord('G')\n",
    "    if (c == ord('G')): return ord('T')\n",
    "    if (c == ord('T')): return ord('A')\n",
    "\n",
    "@njit\n",
    "def neq(a: np.array, b: np.array, len_str: int) -> bool:\n",
    "    for i in range(len_str):\n",
    "        if a[i] != b[i]:\n",
    "            return True\n",
    "    return False\n",
    "\n",
    "@njit\n",
    "def kmer(len_str):\n",
    "    opt    = np.empty(4, dtype=np.ubyte)\n",
    "    s      = np.empty(len_str, dtype=np.ubyte)\n",
    "    s_last = np.empty(len_str, dtype=np.ubyte)\n",
    "    \n",
    "    for (i, x) in enumerate('ACGT'):\n",
    "        opt[i] = ord(x)\n",
    "        \n",
    "    for i in range(len_str):\n",
    "        s[i] = ord('A')\n",
    "        \n",
    "    for i in range(len_str):\n",
    "        s_last[i] = ord('T')\n",
    "\n",
    "    pos = 0\n",
    "    counter = 1\n",
    "    while neq(s, s_last, len_str):\n",
    "        counter += 1\n",
    "        # You can uncomment the next line to see all k-mers.\n",
    "        # However, keep in mind to only uncomment for small k-mers (lon <= 4) \n",
    "        # print(s)\n",
    "        change_next = True\n",
    "        for i in range(len_str):\n",
    "            if (change_next):\n",
    "                if (s[i] == opt[-1]):\n",
    "                    s[i] = convert(s[i])\n",
    "                    change_next = True\n",
    "                else:\n",
    "                    s[i] = convert(s[i])\n",
    "                    break\n",
    "    return counter\n",
    "\n",
    "# Start the main program \n",
    "\n",
    "print(\"Start\")\n",
    "\n",
    "# Modifica este valor para definir la longitud de los k-mers\n",
    "\n",
    "lon = 14\n",
    "\n",
    "numero = kmer(lon)\n",
    "\n",
    "print(\"Number of generated k-mers: {}\\n\".format(numero))\n",
    "\n",
    "%timeit -r2 kmer(lon)\n",
    "\n",
    "print(\"\\nFinish!\")"
   ]
  },
  {
   "cell_type": "code",
   "execution_count": null,
   "metadata": {},
   "outputs": [],
   "source": []
  }
 ],
 "metadata": {
  "kernelspec": {
   "display_name": "Python 3.6",
   "language": "python",
   "name": "python3.6"
  },
  "language_info": {
   "codemirror_mode": {
    "name": "ipython",
    "version": 3
   },
   "file_extension": ".py",
   "mimetype": "text/x-python",
   "name": "python",
   "nbconvert_exporter": "python",
   "pygments_lexer": "ipython3",
   "version": "3.6.8"
  }
 },
 "nbformat": 4,
 "nbformat_minor": 4
}
